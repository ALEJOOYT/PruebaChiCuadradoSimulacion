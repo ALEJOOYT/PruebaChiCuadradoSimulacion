{
  "nbformat": 4,
  "nbformat_minor": 0,
  "metadata": {
    "colab": {
      "provenance": [],
      "include_colab_link": true
    },
    "kernelspec": {
      "name": "ir",
      "display_name": "R"
    },
    "language_info": {
      "name": "R"
    }
  },
  "cells": [
    {
      "cell_type": "markdown",
      "metadata": {
        "id": "view-in-github",
        "colab_type": "text"
      },
      "source": [
        "<a href=\"https://colab.research.google.com/github/ALEJOOYT/PruebaChiCuadradoSimulacion/blob/main/PruebaMetodoChiCuadrado.ipynb\" target=\"_parent\"><img src=\"https://colab.research.google.com/assets/colab-badge.svg\" alt=\"Open In Colab\"/></a>"
      ]
    },
    {
      "cell_type": "code",
      "execution_count": 1,
      "metadata": {
        "id": "4mZkiWetyb8q"
      },
      "outputs": [],
      "source": [
        "# Función que aplica la prueba de Chi Cuadrado\n",
        "PruebaChiCuadrado <- function(serie, intervalos = 10) {\n",
        "\n",
        "  # Paso 1: Dividimos el intervalo [0, 1] en k subintervalos iguales\n",
        "  # Suponemos que los números ya están normalizados en [0, 1]\n",
        "  anchoIntervalo <- 1 / intervalos\n",
        "  limites <- seq(0, 1, by = anchoIntervalo)\n",
        "\n",
        "  # Paso 2: Contamos cuántos valores caen en cada intervalo\n",
        "  frecuenciasObservadas <- hist(serie, breaks = limites, plot = FALSE)$counts\n",
        "\n",
        "  # Paso 3: Calculamos la frecuencia esperada\n",
        "  n <- length(serie)\n",
        "  frecuenciaEsperada <- n / intervalos\n",
        "\n",
        "  # Paso 4: Calculamos el estadístico de Chi Cuadrado\n",
        "  chiCuadrado <- sum((frecuenciasObservadas - frecuenciaEsperada)^2 / frecuenciaEsperada)\n",
        "\n",
        "  # Paso 5: Comparamos con el valor crítico\n",
        "  gradosLibertad <- intervalos - 1\n",
        "  valorCritico <- qchisq(0.95, df = gradosLibertad)\n",
        "  rechazarHipotesis <- chiCuadrado > valorCritico\n",
        "\n",
        "  # Paso 6: Resultado\n",
        "  resultado <- list(\n",
        "    frecuenciasObservadas = frecuenciasObservadas,\n",
        "    frecuenciaEsperada = frecuenciaEsperada,\n",
        "    chiCuadrado = chiCuadrado,\n",
        "    valorCritico = valorCritico,\n",
        "    gradosLibertad = gradosLibertad,\n",
        "    rechazarHipotesis = rechazarHipotesis\n",
        "  )\n",
        "\n",
        "  return(resultado)\n",
        "}"
      ]
    },
    {
      "cell_type": "code",
      "source": [
        "# ---------------------------------------\n",
        "# Interfaz de consola\n",
        "\n",
        "CatBienvenidaChi <- function() {\n",
        "  cat(\"\\n==============================\\n\")\n",
        "  cat(\"   Prueba de Chi Cuadrado\\n\")\n",
        "  cat(\"==============================\\n\")\n",
        "  cat(\"Introduce tu serie de números [0, 1] separados por comas (ej. 0.23, 0.45, 0.78):\\n\")\n",
        "}"
      ],
      "metadata": {
        "id": "usgBHP01y0l7"
      },
      "execution_count": 2,
      "outputs": []
    },
    {
      "cell_type": "code",
      "source": [
        "LeerSerieChi <- function() {\n",
        "  entrada <- readline(prompt = \"Ingresa la serie: \")\n",
        "  serieNumeros <- as.numeric(strsplit(entrada, \",\")[[1]])\n",
        "\n",
        "  if (any(is.na(serieNumeros)) || any(serieNumeros < 0 | serieNumeros > 1)) {\n",
        "    cat(\"\\nError: Todos los valores deben estar entre 0 y 1, separados por comas.\\n\")\n",
        "    return(NULL)\n",
        "  }\n",
        "\n",
        "  return(serieNumeros)\n",
        "}"
      ],
      "metadata": {
        "id": "EZxVTpqQy3Mk"
      },
      "execution_count": 3,
      "outputs": []
    },
    {
      "cell_type": "code",
      "source": [
        "LeerIntervalos <- function() {\n",
        "  entrada <- readline(prompt = \"¿Cuántos intervalos deseas usar? (por defecto 10): \")\n",
        "  num <- as.numeric(entrada)\n",
        "  if (is.na(num) || num <= 0) {\n",
        "    return(10)\n",
        "  }\n",
        "  return(as.integer(num))\n",
        "}"
      ],
      "metadata": {
        "id": "HCEh6iAzy5Uj"
      },
      "execution_count": 4,
      "outputs": []
    },
    {
      "cell_type": "code",
      "source": [
        "MostrarResultadoChi <- function(resultado) {\n",
        "  cat(\"\\n==============================\\n\")\n",
        "  cat(\"Resultados de la Prueba de Chi Cuadrado:\\n\")\n",
        "  cat(\"==============================\\n\")\n",
        "  cat(\"Frecuencias observadas por intervalo:\\n\")\n",
        "  print(resultado$frecuenciasObservadas)\n",
        "\n",
        "  cat(\"\\nFrecuencia esperada por intervalo:\\n\")\n",
        "  print(resultado$frecuenciaEsperada)\n",
        "\n",
        "  cat(\"\\nEstadístico Chi Cuadrado calculado:\\n\")\n",
        "  print(resultado$chiCuadrado)\n",
        "\n",
        "  cat(\"\\nGrados de libertad:\\n\")\n",
        "  print(resultado$gradosLibertad)\n",
        "\n",
        "  cat(\"\\nValor crítico (al 95% de confianza):\\n\")\n",
        "  print(resultado$valorCritico)\n",
        "\n",
        "  cat(\"\\n¿Se rechaza la hipótesis de uniformidad?\\n\")\n",
        "  if (resultado$rechazarHipotesis) {\n",
        "    cat(\"Sí, se rechaza la hipótesis (los números no siguen una distribución uniforme).\\n\")\n",
        "  } else {\n",
        "    cat(\"No, no se rechaza la hipótesis (los números siguen una distribución uniforme).\\n\")\n",
        "  }\n",
        "}"
      ],
      "metadata": {
        "id": "o7aMV4QUy7x2"
      },
      "execution_count": 5,
      "outputs": []
    },
    {
      "cell_type": "code",
      "source": [
        "# ---------------------------------------\n",
        "# Función principal\n",
        "PruebaChiCuadradoInteractiva <- function() {\n",
        "  CatBienvenidaChi()\n",
        "  serie <- LeerSerieChi()\n",
        "\n",
        "  if (!is.null(serie)) {\n",
        "    k <- LeerIntervalos()\n",
        "    resultado <- PruebaChiCuadrado(serie, k)\n",
        "    MostrarResultadoChi(resultado)\n",
        "  }\n",
        "}"
      ],
      "metadata": {
        "id": "DAXXCEM-y_Ba"
      },
      "execution_count": 6,
      "outputs": []
    },
    {
      "cell_type": "code",
      "source": [
        "# Ejecutar el programa\n",
        "PruebaChiCuadradoInteractiva()"
      ],
      "metadata": {
        "id": "nmpiu_QkzBIa",
        "colab": {
          "base_uri": "https://localhost:8080/"
        },
        "outputId": "55efdb36-b4ed-4950-a332-1ee755ee32c3"
      },
      "execution_count": 7,
      "outputs": [
        {
          "output_type": "stream",
          "name": "stdout",
          "text": [
            "Ingresa la serie: 0.23, 0.45, 0.78\n",
            "¿Cuántos intervalos deseas usar? (por defecto 10): 10\n",
            "\n",
            "==============================\n",
            "   Prueba de Chi Cuadrado\n",
            "==============================\n",
            "Introduce tu serie de números [0, 1] separados por comas (ej. 0.23, 0.45, 0.78):\n",
            "\n",
            "==============================\n",
            "Resultados de la Prueba de Chi Cuadrado:\n",
            "==============================\n",
            "Frecuencias observadas por intervalo:\n",
            " [1] 0 0 1 0 1 0 0 1 0 0\n",
            "\n",
            "Frecuencia esperada por intervalo:\n",
            "[1] 0.3\n",
            "\n",
            "Estadístico Chi Cuadrado calculado:\n",
            "[1] 7\n",
            "\n",
            "Grados de libertad:\n",
            "[1] 9\n",
            "\n",
            "Valor crítico (al 95% de confianza):\n",
            "[1] 16.91898\n",
            "\n",
            "¿Se rechaza la hipótesis de uniformidad?\n",
            "No, no se rechaza la hipótesis (los números siguen una distribución uniforme).\n"
          ]
        }
      ]
    }
  ]
}